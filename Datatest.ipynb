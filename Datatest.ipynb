{
 "cells": [
  {
   "cell_type": "code",
   "execution_count": 1,
   "metadata": {},
   "outputs": [
    {
     "name": "stdout",
     "output_type": "stream",
     "text": [
      "95\n"
     ]
    }
   ],
   "source": [
    "from bs4 import BeautifulSoup\n",
    "import urllib.request\n",
    "\n",
    "# GET ARTICLE LINKS FROM 5 PAGES OF 24H.COM.VN\n",
    "linksarr = []\n",
    "articlearr = []\n",
    "for i in range(5):\n",
    "    url = \"https://www.24h.com.vn/kham-pha-cong-nghe-c675.html?vpage=\" + str(i)\n",
    "    html_page = urllib.request.urlopen(url)\n",
    "    soup = BeautifulSoup(html_page, \"html.parser\")\n",
    "    links = soup.find_all(\"span\", attrs={\"class\": \"imgFlt imgNws\"})\n",
    "    for link in links:\n",
    "        linksarr.append(link.find(\"a\").attrs[\"href\"])\n",
    "print(len(linksarr))\n",
    "\n",
    "for i in range(len(linksarr)):\n",
    "    url = linksarr[i]\n",
    "    page = urllib.request.urlopen(url)\n",
    "    soup = BeautifulSoup(page, 'html.parser')\n",
    "    article = soup.find_all(\"p\", string=True)\n",
    "    articlearr.append(str(article).replace('<p>', '').replace('</p>', '').replace('<p', '').replace('[', '')\n",
    "                      .replace(', Cơ quan chủ quản: Công ty Cổ phần Quảng cáo Trực tuyến 24H Trụ sở: Tầng 12, '\n",
    "                               'Tòa nhà Geleximco, 36 Hoàng Cầu, Phường Ô Chợ Dừa, Quận Đống Đa, TP Hà Nội. '\n",
    "                               'Tel: (84-24) 73 00 24 24 hoặc (84-24) 3512 1806 - Fax: (84-24) 3512 1804. Chi nhánh: '\n",
    "                               'Tầng 7, Tòa nhà Việt Úc, 402 Nguyễn Thị Minh Khai, Phường 5, Quận 3, TP. Hồ Chí Minh. '\n",
    "                               'Tel: (84-28) 7300 2424 / Giấy phép số 332/GP – TT ĐT ngày cấp 22/01/2018 '\n",
    "                               'SỞ THÔNG TIN VÀ TRUYỀN THÔNG HÀ NỘI. Chịu trách nhiệm xuất bản: Phan Minh Tâm. '\n",
    "                               'HOTLINE: 0965 08 24 24]', ''))\n",
    "# class=\"img_chu_thich_0407\">\n"
   ]
  },
  {
   "cell_type": "code",
   "execution_count": 2,
   "metadata": {},
   "outputs": [
    {
     "name": "stdout",
     "output_type": "stream",
     "text": [
      "95\n",
      "Trên đà phát triển mạnh mẽ về cả phương diện chuyên môn, truyền thông và kinh nghiệm tổ chức phát sóng thể thao, Truyền hình FPT đặt mục tiêu đa dạng hóa các bộ môn thi đấu quốc tế với việc sở hữu bản quyền các giải bóng đá gồm: AFC Asian Cup, AFC Champions League, AFC Cup, U23 Championship Finals, Bản quyền vòng loại cuối cùng WC 2022 khu vực châu Á và nhiều giải đấu hấp dẫn khác thuộc hệ thống của Liên đoàn bóng đá châu Á - AFC từ năm 2021 đến 2024. Tổng cộng, Truyền hình FPT sẽ phát sóng có bản quyền 1641 trận đấu, trong đó có đến 229 trận có thể có mặt đội tuyển Quốc gia hoặc các CLB Việt Nam, cả bóng đá nam và bóng đá nữ., Vòng loại cuối cùng World Cup 2022 khu vực châu Á sẽ chọn ra những đại diện xuất sắc nhất của châu lục để tiến ra thế giới. Càng đặc biệt hơn khi đội tuyển Việt Nam đang thi đấu thành công tại vòng loại thứ hai, rộng mở cơ hội góp mặt ở vòng đấu cuối. Viễn cảnh thầy trò Park Hang-seo cạnh tranh tấm vé đi World Cup cùng những ông kẹ như Nhật Bản, Hàn Quốc hẳn nhiên rất được người hâm mộ mong chờ. Sau một năm nhiều biến động, sự trở lại của bóng đá nói chung và đội tuyển Việt Nam nói riêng được kỳ vọng sẽ mang tới cú huých trên nhiều phương diện cho xã hội., Ngoài ra, Vòng chung kết U23 Châu Á 2022 hay Asian Cup 2023, những đấu trường Việt Nam từng gây tiếng vang, cũng nằm trong gói bản quyền Truyền hình FPT sở hữu. Cùng với đó là các giải đấu bóng đá nữ và các tuyến trẻ U16 - 19, nhóm sân chơi rất cần và xứng đáng nhận sự quan tâm nhiều hơn từ cộng đồng.,  class=\"img_chu_thich_0407\">Các giải đấu AFC Truyền hình FPT sở hữu trọn vẹn bản quyền, Bên cạnh cấp độ quốc gia, Truyền hình FPT còn hân hạnh gửi tới khán giả hai giải đấu cấp CLB danh giá nhất châu Á là AFC Champions League và AFC Cup., <em>Với tinh thần tự hào dân tộc, Truyền hình FPT sẵn sàng đàm phán, chia sẻ quyền lợi liên quan đến bản quyền AFC với tất cả các đơn vị truyền thông trong cả nước, với hy vọng hình ảnh cờ đỏ sao vàng trên sân cỏ thế giới sẽ được đến với mỗi nhà, mỗi người hâm mộ bóng đá.”</em>, Đầu tư vào nội dung thể thao là hướng phát triển nằm trong chiến lược tổng thể, phát triển toàn diện của Truyền hình FPT từ năm 2020. Trước đó, vào ngày 10/10, Truyền hình FPT đã chính thức công bố Bộ giải mã truyền hình thế hệ thứ 4 với tên gọi FPT TV 4K FX6. Sự phát triển đồng bộ về mọi mặt của Truyền hình FPT hứa hẹn mang tới cho khách hàng trải nghiệm thể thao sống động nhất.\n"
     ]
    }
   ],
   "source": [
    "print(len(linksarr))\n",
    "print(articlearr[1])"
   ]
  }
 ],
 "metadata": {
  "kernelspec": {
   "display_name": "Python 3",
   "language": "python",
   "name": "python3"
  },
  "language_info": {
   "codemirror_mode": {
    "name": "ipython",
    "version": 3
   },
   "file_extension": ".py",
   "mimetype": "text/x-python",
   "name": "python",
   "nbconvert_exporter": "python",
   "pygments_lexer": "ipython3",
   "version": "3.7.9"
  }
 },
 "nbformat": 4,
 "nbformat_minor": 4
}
